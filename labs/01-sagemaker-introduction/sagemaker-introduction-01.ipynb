{
 "cells": [
  {
   "cell_type": "markdown",
   "metadata": {},
   "source": [
    "# Introdução ao Amazon SageMaker"
   ]
  },
  {
   "cell_type": "markdown",
   "metadata": {},
   "source": [
    "Nesta demonstração iremos obter o [conjunto de dados caltech-256](http://www.vision.caltech.edu/Image_Datasets/Caltech256/) e iremos preparar o dataset para a etapa de treinamento.\n",
    "\n",
    "Para começar, precisamos configurar o ambiente com algumas etapas de pré-requisito."
   ]
  },
  {
   "cell_type": "markdown",
   "metadata": {},
   "source": [
    "## Pré-requisitos e Pré-processamento\n",
    "\n",
    "### Permissões e variáveis\n",
    "\n",
    "Aqui, configuramos o link e a autenticação para os serviços da AWS. Existem três partes para isso:\n",
    "\n",
    "* As funções usadas para fornecer acesso aos serviços AWS\n",
    "* O bucket S3 que você deseja usar para armazenar o dataset e o modelo"
   ]
  },
  {
   "cell_type": "code",
   "execution_count": null,
   "metadata": {},
   "outputs": [],
   "source": [
    "import os \n",
    "import urllib.request\n",
    "import boto3\n",
    "    \n",
    "bucket= 'sagemaker-workshop-files-us-east-1-206730628141' # troque pelo seu bucket (o bucket foi criado pelo CloudFormation, verifique a aba de output no CloudFormation)\n",
    "prefix = 'introduction'\n",
    "\n",
    "def download(url):\n",
    "    filename = url.split('/')[-1]\n",
    "    if not os.path.exists(filename):\n",
    "        urllib.request.urlretrieve(url, filename)\n",
    "\n",
    "def upload_to_s3(channel, file):\n",
    "    s3 = boto3.resource('s3')\n",
    "    data = open(file, 'rb')\n",
    "    key = f'{channel}/{file}'\n",
    "    s3.Bucket(bucket).put_object(Key=key, Body=data)"
   ]
  },
  {
   "cell_type": "markdown",
   "metadata": {},
   "source": [
    "### Preparação dos dados\n",
    "Iremos fazer download do dataset e depois upload no nosso bucket S3. Nessa demonstração usamos o dataset [Caltech-256](http://www.vision.caltech.edu/Image_Datasets/Caltech256/) que possui 30608 imagens de 256 objetos diferentes. Para o treinamento e validação do modelo, iremos utilizar dois arquivos que de maneira aleatória tem separado 60 imagens por classe de objeto para o treinamento, e usa as imagens restantes para validação. Os arquivos já estão no formato `RecordIO` para economizarmos tempo, mas também é possível converter as imagens para o formato `RecordIO` usando o [im2rec](https://mxnet.incubator.apache.org/how_to/recordio.html?highlight=im2rec) do framework MXNet."
   ]
  },
  {
   "cell_type": "code",
   "execution_count": null,
   "metadata": {},
   "outputs": [],
   "source": [
    "# Download caltech-256\n",
    "download('http://data.mxnet.io/data/caltech-256/caltech-256-60-train.rec')\n",
    "download('http://data.mxnet.io/data/caltech-256/caltech-256-60-val.rec')"
   ]
  },
  {
   "cell_type": "code",
   "execution_count": null,
   "metadata": {},
   "outputs": [],
   "source": [
    "# Quatro canais: train, validation, train_lst, and validation_lst\n",
    "s3train = f'{prefix}/train'\n",
    "s3validation = f'{prefix}/validation'\n",
    "\n",
    "# upload the lst files to train and validation channels\n",
    "upload_to_s3(s3train, 'caltech-256-60-train.rec')\n",
    "upload_to_s3(s3validation, 'caltech-256-60-val.rec')"
   ]
  },
  {
   "cell_type": "markdown",
   "metadata": {},
   "source": [
    "Assim que tivermos os dados disponíveis no formato correto para treinamento, a próxima etapa é realmente treinar o modelo usando os dados. Depois de definir os parâmetros de treinamento, iniciamos o treinamento e monitoramos até que o treinamento seja concluído. Volte para o workshop e confira o próximo passo!"
   ]
  }
 ],
 "metadata": {
  "kernelspec": {
   "display_name": "conda_amazonei_mxnet_p36",
   "language": "python",
   "name": "conda_amazonei_mxnet_p36"
  },
  "language_info": {
   "codemirror_mode": {
    "name": "ipython",
    "version": 3
   },
   "file_extension": ".py",
   "mimetype": "text/x-python",
   "name": "python",
   "nbconvert_exporter": "python",
   "pygments_lexer": "ipython3",
   "version": "3.6.10"
  },
  "notice": "Copyright 2018 Amazon.com, Inc. or its affiliates. All Rights Reserved.  Licensed under the Apache License, Version 2.0 (the \"License\"). You may not use this file except in compliance with the License. A copy of the License is located at http://aws.amazon.com/apache2.0/ or in the \"license\" file accompanying this file. This file is distributed on an \"AS IS\" BASIS, WITHOUT WARRANTIES OR CONDITIONS OF ANY KIND, either express or implied. See the License for the specific language governing permissions and limitations under the License."
 },
 "nbformat": 4,
 "nbformat_minor": 2
}
